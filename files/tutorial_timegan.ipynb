{
 "cells": [
  {
   "cell_type": "markdown",
   "metadata": {},
   "source": [
    "# TimeGAN Tutorial\n",
    "\n",
    "## Time-series Generative Adversarial Networks\n",
    "\n",
    "- Paper: Jinsung Yoon, Daniel Jarrett, Mihaela van der Schaar, \"Time-series Generative Adversarial Networks,\" Neural Information Processing Systems (NeurIPS), 2019.\n",
    "\n",
    "- Paper link: https://papers.nips.cc/paper/8789-time-series-generative-adversarial-networks\n",
    "\n",
    "- Last updated Date: April 24th 2020\n",
    "\n",
    "- Code author: Jinsung Yoon (jsyoon0823@gmail.com)\n",
    "\n",
    "This notebook describes the user-guide of a time-series synthetic data generation application using timeGAN framework. We use Energy, and Sine dataset as examples.\n"
   ]
  },
  {
   "cell_type": "markdown",
   "metadata": {},
   "source": [
    "## Necessary packages and functions call\n",
    "\n",
    "- timegan: Synthetic time-series data generation module\n",
    "- data_loading: 2 real datasets and 1 synthetic datasets loading and preprocessing\n",
    "- metrics: \n",
    "    - discriminative_metrics: classify real data from synthetic data\n",
    "    - predictive_metrics: train on synthetic, test on real\n",
    "    - visualization: PCA and tSNE analyses"
   ]
  },
  {
   "cell_type": "code",
   "execution_count": 1,
   "metadata": {},
   "outputs": [],
   "source": [
    "## Necessary packages\n",
    "from __future__ import absolute_import\n",
    "from __future__ import division\n",
    "from __future__ import print_function\n",
    "\n",
    "import numpy as np\n",
    "import warnings\n",
    "warnings.filterwarnings(\"ignore\")\n",
    "\n",
    "# 1. TimeGAN model\n",
    "from timegan import timegan\n",
    "# 2. Data loading\n",
    "from data_loading import real_data_loading, sine_data_generation\n",
    "# 3. Metrics\n",
    "from metrics.discriminative_metrics import discriminative_score_metrics\n",
    "from metrics.predictive_metrics import predictive_score_metrics\n",
    "from metrics.visualization_metrics import visualization"
   ]
  },
  {
   "cell_type": "markdown",
   "metadata": {},
   "source": [
    "## Data Loading\n",
    "\n",
    "Load original dataset and preprocess the loaded data.\n",
    "\n",
    "- data_name: stock, energy, or sine\n",
    "- seq_len: sequence length of the time-series data"
   ]
  },
  {
   "cell_type": "code",
   "execution_count": 2,
   "metadata": {},
   "outputs": [
    {
     "name": "stdout",
     "output_type": "stream",
     "text": [
      "stock dataset is ready.\n"
     ]
    }
   ],
   "source": [
    "## Data loading\n",
    "data_name = 'stock'\n",
    "seq_len = 24\n",
    "\n",
    "if data_name in ['stock', 'energy']:\n",
    "    ori_data = real_data_loading(data_name, seq_len)\n",
    "elif data_name == 'sine':\n",
    "    # Set number of samples and its dimensions\n",
    "    no, dim = 10000, 5\n",
    "    ori_data = sine_data_generation(no, seq_len, dim)\n",
    "    \n",
    "print(data_name + ' dataset is ready.')"
   ]
  },
  {
   "cell_type": "markdown",
   "metadata": {},
   "source": [
    "## Set network parameters\n",
    "\n",
    "TimeGAN network parameters should be optimized for different datasets.\n",
    "\n",
    "- module: gru, lstm, or lstmLN\n",
    "- hidden_dim: hidden dimensions\n",
    "- num_layer: number of layers\n",
    "- iteration: number of training iterations\n",
    "- batch_size: the number of samples in each batch"
   ]
  },
  {
   "cell_type": "code",
   "execution_count": 3,
   "metadata": {},
   "outputs": [],
   "source": [
    "## Newtork parameters\n",
    "parameters = dict()\n",
    "\n",
    "parameters['module'] = 'lstm' \n",
    "parameters['hidden_dim'] = 24\n",
    "parameters['num_layer'] = 3\n",
    "parameters['iterations'] = 10000\n",
    "parameters['batch_size'] = 128"
   ]
  },
  {
   "cell_type": "markdown",
   "metadata": {},
   "source": [
    "## Run TimeGAN for synthetic time-series data generation\n",
    "\n",
    "TimeGAN uses the original data and network parameters to return the generated synthetic data."
   ]
  },
  {
   "cell_type": "code",
   "execution_count": 4,
   "metadata": {},
   "outputs": [
    {
     "ename": "AttributeError",
     "evalue": "module 'tensorflow' has no attribute 'placeholder'",
     "output_type": "error",
     "traceback": [
      "\u001b[0;31m---------------------------------------------------------------------------\u001b[0m",
      "\u001b[0;31mAttributeError\u001b[0m                            Traceback (most recent call last)",
      "\u001b[0;32m<ipython-input-4-80dade3fc85f>\u001b[0m in \u001b[0;36m<module>\u001b[0;34m\u001b[0m\n\u001b[1;32m      1\u001b[0m \u001b[0;31m# Run TimeGAN\u001b[0m\u001b[0;34m\u001b[0m\u001b[0;34m\u001b[0m\u001b[0;34m\u001b[0m\u001b[0m\n\u001b[0;32m----> 2\u001b[0;31m \u001b[0mgenerated_data\u001b[0m \u001b[0;34m=\u001b[0m \u001b[0mtimegan\u001b[0m\u001b[0;34m(\u001b[0m\u001b[0mori_data\u001b[0m\u001b[0;34m,\u001b[0m \u001b[0mparameters\u001b[0m\u001b[0;34m)\u001b[0m\u001b[0;34m\u001b[0m\u001b[0;34m\u001b[0m\u001b[0m\n\u001b[0m\u001b[1;32m      3\u001b[0m \u001b[0mprint\u001b[0m\u001b[0;34m(\u001b[0m\u001b[0;34m'Finish Synthetic Data Generation'\u001b[0m\u001b[0;34m)\u001b[0m\u001b[0;34m\u001b[0m\u001b[0;34m\u001b[0m\u001b[0m\n",
      "\u001b[0;32m~/work/timegan.py\u001b[0m in \u001b[0;36mtimegan\u001b[0;34m(ori_data, parameters)\u001b[0m\n\u001b[1;32m     78\u001b[0m \u001b[0;34m\u001b[0m\u001b[0m\n\u001b[1;32m     79\u001b[0m   \u001b[0;31m# Input place holders\u001b[0m\u001b[0;34m\u001b[0m\u001b[0;34m\u001b[0m\u001b[0;34m\u001b[0m\u001b[0m\n\u001b[0;32m---> 80\u001b[0;31m   \u001b[0mX\u001b[0m \u001b[0;34m=\u001b[0m \u001b[0mtf\u001b[0m\u001b[0;34m.\u001b[0m\u001b[0mplaceholder\u001b[0m\u001b[0;34m(\u001b[0m\u001b[0mtf\u001b[0m\u001b[0;34m.\u001b[0m\u001b[0mfloat32\u001b[0m\u001b[0;34m,\u001b[0m \u001b[0;34m[\u001b[0m\u001b[0;32mNone\u001b[0m\u001b[0;34m,\u001b[0m \u001b[0mmax_seq_len\u001b[0m\u001b[0;34m,\u001b[0m \u001b[0mdim\u001b[0m\u001b[0;34m]\u001b[0m\u001b[0;34m,\u001b[0m \u001b[0mname\u001b[0m \u001b[0;34m=\u001b[0m \u001b[0;34m\"myinput_x\"\u001b[0m\u001b[0;34m)\u001b[0m\u001b[0;34m\u001b[0m\u001b[0;34m\u001b[0m\u001b[0m\n\u001b[0m\u001b[1;32m     81\u001b[0m   \u001b[0mZ\u001b[0m \u001b[0;34m=\u001b[0m \u001b[0mtf\u001b[0m\u001b[0;34m.\u001b[0m\u001b[0mplaceholder\u001b[0m\u001b[0;34m(\u001b[0m\u001b[0mtf\u001b[0m\u001b[0;34m.\u001b[0m\u001b[0mfloat32\u001b[0m\u001b[0;34m,\u001b[0m \u001b[0;34m[\u001b[0m\u001b[0;32mNone\u001b[0m\u001b[0;34m,\u001b[0m \u001b[0mmax_seq_len\u001b[0m\u001b[0;34m,\u001b[0m \u001b[0mz_dim\u001b[0m\u001b[0;34m]\u001b[0m\u001b[0;34m,\u001b[0m \u001b[0mname\u001b[0m \u001b[0;34m=\u001b[0m \u001b[0;34m\"myinput_z\"\u001b[0m\u001b[0;34m)\u001b[0m\u001b[0;34m\u001b[0m\u001b[0;34m\u001b[0m\u001b[0m\n\u001b[1;32m     82\u001b[0m   \u001b[0mT\u001b[0m \u001b[0;34m=\u001b[0m \u001b[0mtf\u001b[0m\u001b[0;34m.\u001b[0m\u001b[0mplaceholder\u001b[0m\u001b[0;34m(\u001b[0m\u001b[0mtf\u001b[0m\u001b[0;34m.\u001b[0m\u001b[0mint32\u001b[0m\u001b[0;34m,\u001b[0m \u001b[0;34m[\u001b[0m\u001b[0;32mNone\u001b[0m\u001b[0;34m]\u001b[0m\u001b[0;34m,\u001b[0m \u001b[0mname\u001b[0m \u001b[0;34m=\u001b[0m \u001b[0;34m\"myinput_t\"\u001b[0m\u001b[0;34m)\u001b[0m\u001b[0;34m\u001b[0m\u001b[0;34m\u001b[0m\u001b[0m\n",
      "\u001b[0;31mAttributeError\u001b[0m: module 'tensorflow' has no attribute 'placeholder'"
     ]
    }
   ],
   "source": [
    "# Run TimeGAN\n",
    "generated_data = timegan(ori_data, parameters)   \n",
    "print('Finish Synthetic Data Generation')"
   ]
  },
  {
   "cell_type": "code",
   "execution_count": 6,
   "metadata": {},
   "outputs": [
    {
     "name": "stdout",
     "output_type": "stream",
     "text": [
      "Package                           Version\n",
      "--------------------------------- -------------------\n",
      "absl-py                           1.0.0\n",
      "alembic                           1.6.0\n",
      "anyio                             2.2.0\n",
      "appdirs                           1.4.4\n",
      "argon2-cffi                       20.1.0\n",
      "astunparse                        1.6.3\n",
      "async-generator                   1.10\n",
      "attrs                             20.3.0\n",
      "Babel                             2.9.1\n",
      "backcall                          0.2.0\n",
      "backports.functools-lru-cache     1.6.4\n",
      "beautifulsoup4                    4.9.3\n",
      "bleach                            3.3.0\n",
      "blinker                           1.4\n",
      "bokeh                             2.3.1\n",
      "Bottleneck                        1.3.2\n",
      "brotlipy                          0.7.0\n",
      "cached-property                   1.5.2\n",
      "cachetools                        5.0.0\n",
      "certifi                           2021.10.8\n",
      "certipy                           0.1.3\n",
      "cffi                              1.14.5\n",
      "chardet                           4.0.0\n",
      "click                             7.1.2\n",
      "cloudpickle                       1.6.0\n",
      "conda                             4.10.0\n",
      "conda-package-handling            1.7.3\n",
      "cryptography                      3.4.7\n",
      "cycler                            0.10.0\n",
      "Cython                            0.29.23\n",
      "cytoolz                           0.11.0\n",
      "dask                              2021.4.1\n",
      "decorator                         5.0.7\n",
      "defusedxml                        0.7.1\n",
      "deprecation                       2.1.0\n",
      "dill                              0.3.3\n",
      "distributed                       2021.4.1\n",
      "entrypoints                       0.3\n",
      "flatbuffers                       2.0\n",
      "fsspec                            2021.4.0\n",
      "gast                              0.5.3\n",
      "gmpy2                             2.1.0b1\n",
      "google-auth                       2.6.0\n",
      "google-auth-oauthlib              0.4.6\n",
      "google-pasta                      0.2.0\n",
      "greenlet                          1.0.0\n",
      "grpcio                            1.44.0\n",
      "h5py                              3.2.1\n",
      "HeapDict                          1.0.1\n",
      "idna                              2.10\n",
      "imagecodecs                       2021.3.31\n",
      "imageio                           2.9.0\n",
      "importlib-metadata                4.11.1\n",
      "ipykernel                         5.5.4\n",
      "ipympl                            0.7.0\n",
      "ipython                           7.23.1\n",
      "ipython-genutils                  0.2.0\n",
      "ipywidgets                        7.6.3\n",
      "jedi                              0.18.0\n",
      "Jinja2                            2.11.3\n",
      "joblib                            1.0.1\n",
      "json5                             0.9.5\n",
      "jsonschema                        3.2.0\n",
      "jupyter-client                    6.1.12\n",
      "jupyter-contrib-core              0.3.3\n",
      "jupyter-contrib-nbextensions      0.5.1\n",
      "jupyter-core                      4.7.1\n",
      "jupyter-highlight-selected-word   0.2.0\n",
      "jupyter-latex-envs                1.4.6\n",
      "jupyter-nbextensions-configurator 0.4.1\n",
      "jupyter-packaging                 0.10.1\n",
      "jupyter-server                    1.6.4\n",
      "jupyter-telemetry                 0.1.0\n",
      "jupyterhub                        1.4.0\n",
      "jupyterlab                        3.0.14\n",
      "jupyterlab-pygments               0.1.2\n",
      "jupyterlab-server                 2.5.0\n",
      "jupyterlab-widgets                1.0.0\n",
      "keras                             2.8.0\n",
      "Keras-Preprocessing               1.1.2\n",
      "kiwisolver                        1.3.1\n",
      "libclang                          13.0.0\n",
      "llvmlite                          0.36.0\n",
      "locket                            0.2.0\n",
      "lxml                              4.8.0\n",
      "Mako                              1.1.4\n",
      "mamba                             0.12.2\n",
      "Markdown                          3.3.6\n",
      "MarkupSafe                        1.1.1\n",
      "matplotlib                        3.4.1\n",
      "matplotlib-inline                 0.1.2\n",
      "mistune                           0.8.4\n",
      "mock                              4.0.3\n",
      "mpmath                            1.2.1\n",
      "msgpack                           1.0.2\n",
      "nbclassic                         0.2.7\n",
      "nbclient                          0.5.3\n",
      "nbconvert                         6.0.7\n",
      "nbformat                          5.1.3\n",
      "nest-asyncio                      1.5.1\n",
      "networkx                          2.3\n",
      "notebook                          6.3.0\n",
      "numba                             0.53.1\n",
      "numexpr                           2.7.3\n",
      "numpy                             1.20.2\n",
      "oauthlib                          3.0.1\n",
      "olefile                           0.46\n",
      "opt-einsum                        3.3.0\n",
      "packaging                         20.9\n",
      "pamela                            1.0.0\n",
      "pandas                            1.2.4\n",
      "pandocfilters                     1.4.2\n",
      "parso                             0.8.2\n",
      "partd                             1.2.0\n",
      "patsy                             0.5.1\n",
      "pexpect                           4.8.0\n",
      "pickleshare                       0.7.5\n",
      "Pillow                            8.1.2\n",
      "pip                               22.0.3\n",
      "pooch                             1.3.0\n",
      "prometheus-client                 0.10.1\n",
      "prompt-toolkit                    3.0.18\n",
      "protobuf                          3.15.8\n",
      "psutil                            5.8.0\n",
      "ptyprocess                        0.7.0\n",
      "pyasn1                            0.4.8\n",
      "pyasn1-modules                    0.2.8\n",
      "pycosat                           0.6.3\n",
      "pycparser                         2.20\n",
      "pycurl                            7.43.0.6\n",
      "Pygments                          2.9.0\n",
      "PyJWT                             2.1.0\n",
      "pyOpenSSL                         20.0.1\n",
      "pyparsing                         2.4.7\n",
      "pyrsistent                        0.17.3\n",
      "PySocks                           1.7.1\n",
      "python-dateutil                   2.8.1\n",
      "python-editor                     1.0.4\n",
      "python-json-logger                2.0.1\n",
      "pytz                              2021.1\n",
      "PyWavelets                        1.1.1\n",
      "PyYAML                            5.4.1\n",
      "pyzmq                             22.0.3\n",
      "requests                          2.25.1\n",
      "requests-oauthlib                 1.3.1\n",
      "rsa                               4.8\n",
      "ruamel.yaml                       0.16.12\n",
      "ruamel.yaml.clib                  0.2.2\n",
      "ruamel-yaml-conda                 0.15.80\n",
      "scikit-image                      0.18.1\n",
      "scikit-learn                      0.24.2\n",
      "scipy                             1.6.3\n",
      "seaborn                           0.11.1\n",
      "Send2Trash                        1.5.0\n",
      "setuptools                        49.6.0.post20210108\n",
      "six                               1.16.0\n",
      "sniffio                           1.2.0\n",
      "sortedcontainers                  2.3.0\n",
      "soupsieve                         2.0.1\n",
      "SQLAlchemy                        1.4.13\n",
      "statsmodels                       0.12.2\n",
      "sympy                             1.8\n",
      "tables                            3.6.1\n",
      "tblib                             1.7.0\n",
      "tensorboard                       2.8.0\n",
      "tensorboard-data-server           0.6.1\n",
      "tensorboard-plugin-wit            1.8.1\n",
      "tensorflow                        2.8.0\n",
      "tensorflow-io-gcs-filesystem      0.24.0\n",
      "termcolor                         1.1.0\n",
      "terminado                         0.9.4\n",
      "testpath                          0.4.4\n",
      "tf-estimator-nightly              2.8.0.dev2021122109\n",
      "threadpoolctl                     2.1.0\n",
      "tifffile                          2021.4.8\n",
      "tomlkit                           0.7.0\n",
      "toolz                             0.11.1\n",
      "tornado                           6.1\n",
      "tqdm                              4.60.0\n",
      "traitlets                         5.0.5\n",
      "typing-extensions                 3.7.4.3\n",
      "urllib3                           1.26.4\n",
      "vincent                           0.4.4\n",
      "wcwidth                           0.2.5\n",
      "webencodings                      0.5.1\n",
      "Werkzeug                          2.0.3\n",
      "wheel                             0.36.2\n",
      "widgetsnbextension                3.5.1\n",
      "wrapt                             1.13.3\n",
      "xlrd                              2.0.1\n",
      "zict                              2.0.0\n",
      "zipp                              3.4.1\n"
     ]
    }
   ],
   "source": [
    "!pip list"
   ]
  },
  {
   "cell_type": "markdown",
   "metadata": {},
   "source": [
    "## Evaluate the generated data\n",
    "\n",
    "### 1. Discriminative score\n",
    "\n",
    "To evaluate the classification accuracy between original and synthetic data using post-hoc RNN network. The output is |classification accuracy - 0.5|.\n",
    "\n",
    "- metric_iteration: the number of iterations for metric computation."
   ]
  },
  {
   "cell_type": "code",
   "execution_count": null,
   "metadata": {},
   "outputs": [],
   "source": [
    "metric_iteration = 5\n",
    "\n",
    "discriminative_score = list()\n",
    "for _ in range(metric_iteration):\n",
    "  temp_disc = discriminative_score_metrics(ori_data, generated_data)\n",
    "  discriminative_score.append(temp_disc)\n",
    "\n",
    "print('Discriminative score: ' + str(np.round(np.mean(discriminative_score), 4)))"
   ]
  },
  {
   "cell_type": "markdown",
   "metadata": {},
   "source": [
    "## Evaluate the generated data\n",
    "\n",
    "### 2. Predictive score\n",
    "\n",
    "To evaluate the prediction performance on train on synthetic, test on real setting. More specifically, we use Post-hoc RNN architecture to predict one-step ahead and report the performance in terms of MAE."
   ]
  },
  {
   "cell_type": "code",
   "execution_count": null,
   "metadata": {},
   "outputs": [],
   "source": [
    "predictive_score = list()\n",
    "for tt in range(metric_iteration):\n",
    "  temp_pred = predictive_score_metrics(ori_data, generated_data)\n",
    "  predictive_score.append(temp_pred)   \n",
    "    \n",
    "print('Predictive score: ' + str(np.round(np.mean(predictive_score), 4)))"
   ]
  },
  {
   "cell_type": "markdown",
   "metadata": {},
   "source": [
    "## Evaluate the generated data\n",
    "\n",
    "### 3. Visualization\n",
    "\n",
    "We visualize the original and synthetic data distributions using PCA and tSNE analysis."
   ]
  },
  {
   "cell_type": "code",
   "execution_count": null,
   "metadata": {},
   "outputs": [],
   "source": [
    "visualization(ori_data, generated_data, 'pca')\n",
    "visualization(ori_data, generated_data, 'tsne')"
   ]
  }
 ],
 "metadata": {
  "kernelspec": {
   "display_name": "Python 3",
   "language": "python",
   "name": "python3"
  },
  "language_info": {
   "codemirror_mode": {
    "name": "ipython",
    "version": 3
   },
   "file_extension": ".py",
   "mimetype": "text/x-python",
   "name": "python",
   "nbconvert_exporter": "python",
   "pygments_lexer": "ipython3",
   "version": "3.8.8"
  }
 },
 "nbformat": 4,
 "nbformat_minor": 2
}
