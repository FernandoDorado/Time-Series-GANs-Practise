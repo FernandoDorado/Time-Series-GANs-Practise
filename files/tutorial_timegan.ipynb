{
 "cells": [
  {
   "cell_type": "markdown",
   "metadata": {},
   "source": [
    "# TimeGAN Tutorial\n",
    "\n",
    "## Time-series Generative Adversarial Networks\n",
    "\n",
    "- Paper: Jinsung Yoon, Daniel Jarrett, Mihaela van der Schaar, \"Time-series Generative Adversarial Networks,\" Neural Information Processing Systems (NeurIPS), 2019.\n",
    "\n",
    "- Paper link: https://papers.nips.cc/paper/8789-time-series-generative-adversarial-networks\n",
    "\n",
    "- Last updated Date: April 24th 2020\n",
    "\n",
    "- Code author: Jinsung Yoon (jsyoon0823@gmail.com)\n",
    "\n",
    "This notebook describes the user-guide of a time-series synthetic data generation application using timeGAN framework. We use Energy, and Sine dataset as examples.\n"
   ]
  },
  {
   "cell_type": "markdown",
   "metadata": {},
   "source": [
    "## Necessary packages and functions call\n",
    "\n",
    "- timegan: Synthetic time-series data generation module\n",
    "- data_loading: 2 real datasets and 1 synthetic datasets loading and preprocessing\n",
    "- metrics: \n",
    "    - discriminative_metrics: classify real data from synthetic data\n",
    "    - predictive_metrics: train on synthetic, test on real\n",
    "    - visualization: PCA and tSNE analyses"
   ]
  },
  {
   "cell_type": "code",
   "execution_count": 1,
   "metadata": {},
   "outputs": [],
   "source": [
    "## Necessary packages\n",
    "from __future__ import absolute_import\n",
    "from __future__ import division\n",
    "from __future__ import print_function\n",
    "\n",
    "import numpy as np\n",
    "import warnings\n",
    "warnings.filterwarnings(\"ignore\")\n",
    "\n",
    "# 1. TimeGAN model\n",
    "from timegan import timegan\n",
    "# 2. Data loading\n",
    "from data_loading import real_data_loading, sine_data_generation\n",
    "# 3. Metrics\n",
    "from metrics.discriminative_metrics import discriminative_score_metrics\n",
    "from metrics.predictive_metrics import predictive_score_metrics\n",
    "from metrics.visualization_metrics import visualization"
   ]
  },
  {
   "cell_type": "markdown",
   "metadata": {},
   "source": [
    "## Data Loading\n",
    "\n",
    "Load original dataset and preprocess the loaded data.\n",
    "\n",
    "- data_name: stock, energy, or sine\n",
    "- seq_len: sequence length of the time-series data"
   ]
  },
  {
   "cell_type": "code",
   "execution_count": 2,
   "metadata": {},
   "outputs": [
    {
     "name": "stdout",
     "output_type": "stream",
     "text": [
      "energy dataset is ready.\n"
     ]
    }
   ],
   "source": [
    "## Data loading\n",
    "data_name = 'energy'\n",
    "seq_len = 24\n",
    "\n",
    "if data_name in ['energy']:\n",
    "    ori_data = real_data_loading(data_name, seq_len)\n",
    "elif data_name == 'sine':\n",
    "    # Set number of samples and its dimensions\n",
    "    no, dim = 10000, 5\n",
    "    ori_data = sine_data_generation(no, seq_len, dim)\n",
    "    \n",
    "print(data_name + ' dataset is ready.')"
   ]
  },
  {
   "cell_type": "markdown",
   "metadata": {},
   "source": [
    "## Set network parameters\n",
    "\n",
    "TimeGAN network parameters should be optimized for different datasets.\n",
    "\n",
    "- module: gru, lstm, or lstmLN\n",
    "- hidden_dim: hidden dimensions\n",
    "- num_layer: number of layers\n",
    "- iteration: number of training iterations\n",
    "- batch_size: the number of samples in each batch"
   ]
  },
  {
   "cell_type": "code",
   "execution_count": 3,
   "metadata": {},
   "outputs": [],
   "source": [
    "## Newtork parameters\n",
    "parameters = dict()\n",
    "\n",
    "parameters['module'] = 'lstm' \n",
    "parameters['hidden_dim'] = 24\n",
    "parameters['num_layer'] = 3\n",
    "parameters['iterations'] = 10000\n",
    "parameters['batch_size'] = 128"
   ]
  },
  {
   "cell_type": "markdown",
   "metadata": {},
   "source": [
    "## Run TimeGAN for synthetic time-series data generation\n",
    "\n",
    "TimeGAN uses the original data and network parameters to return the generated synthetic data."
   ]
  },
  {
   "cell_type": "code",
   "execution_count": null,
   "metadata": {},
   "outputs": [
    {
     "name": "stdout",
     "output_type": "stream",
     "text": [
      "WARNING:tensorflow:`tf.nn.rnn_cell.MultiRNNCell` is deprecated. This class is equivalent as `tf.keras.layers.StackedRNNCells`, and will be replaced by that in Tensorflow 2.0.\n",
      "WARNING:tensorflow:From /home/jovyan/work/timegan.py:96: dynamic_rnn (from tensorflow.python.ops.rnn) is deprecated and will be removed in a future version.\n",
      "Instructions for updating:\n",
      "Please use `keras.layers.RNN(cell)`, which is equivalent to this API\n",
      "WARNING:tensorflow:From /opt/conda/lib/python3.8/site-packages/keras/layers/legacy_rnn/rnn_cell_impl.py:760: calling Zeros.__init__ (from tensorflow.python.ops.init_ops) with dtype is deprecated and will be removed in a future version.\n",
      "Instructions for updating:\n",
      "Call initializer instance with the dtype argument instead of passing it to the constructor\n",
      "WARNING:tensorflow:`tf.nn.rnn_cell.MultiRNNCell` is deprecated. This class is equivalent as `tf.keras.layers.StackedRNNCells`, and will be replaced by that in Tensorflow 2.0.\n",
      "WARNING:tensorflow:`tf.nn.rnn_cell.MultiRNNCell` is deprecated. This class is equivalent as `tf.keras.layers.StackedRNNCells`, and will be replaced by that in Tensorflow 2.0.\n",
      "WARNING:tensorflow:`tf.nn.rnn_cell.MultiRNNCell` is deprecated. This class is equivalent as `tf.keras.layers.StackedRNNCells`, and will be replaced by that in Tensorflow 2.0.\n",
      "WARNING:tensorflow:`tf.nn.rnn_cell.MultiRNNCell` is deprecated. This class is equivalent as `tf.keras.layers.StackedRNNCells`, and will be replaced by that in Tensorflow 2.0.\n",
      "WARNING:tensorflow:`tf.nn.rnn_cell.MultiRNNCell` is deprecated. This class is equivalent as `tf.keras.layers.StackedRNNCells`, and will be replaced by that in Tensorflow 2.0.\n",
      "WARNING:tensorflow:`tf.nn.rnn_cell.MultiRNNCell` is deprecated. This class is equivalent as `tf.keras.layers.StackedRNNCells`, and will be replaced by that in Tensorflow 2.0.\n",
      "WARNING:tensorflow:`tf.nn.rnn_cell.MultiRNNCell` is deprecated. This class is equivalent as `tf.keras.layers.StackedRNNCells`, and will be replaced by that in Tensorflow 2.0.\n",
      "WARNING:tensorflow:`tf.nn.rnn_cell.MultiRNNCell` is deprecated. This class is equivalent as `tf.keras.layers.StackedRNNCells`, and will be replaced by that in Tensorflow 2.0.\n",
      "Start Embedding Network Training\n",
      "step: 0/10000, e_loss: 0.2455\n",
      "step: 1000/10000, e_loss: 0.1256\n",
      "step: 2000/10000, e_loss: 0.1016\n",
      "step: 3000/10000, e_loss: 0.0968\n",
      "step: 4000/10000, e_loss: 0.0911\n",
      "step: 5000/10000, e_loss: 0.0899\n",
      "step: 6000/10000, e_loss: 0.0843\n",
      "step: 7000/10000, e_loss: 0.0843\n",
      "step: 8000/10000, e_loss: 0.0829\n",
      "step: 9000/10000, e_loss: 0.0799\n",
      "Finish Embedding Network Training\n",
      "Start Training with Supervised Loss Only\n",
      "step: 0/10000, s_loss: 0.2032\n",
      "step: 1000/10000, s_loss: 0.097\n",
      "step: 2000/10000, s_loss: 0.0959\n",
      "step: 3000/10000, s_loss: 0.0938\n",
      "step: 4000/10000, s_loss: 0.0923\n",
      "step: 5000/10000, s_loss: 0.0924\n",
      "step: 6000/10000, s_loss: 0.0924\n",
      "step: 7000/10000, s_loss: 0.0916\n",
      "step: 8000/10000, s_loss: 0.092\n",
      "step: 9000/10000, s_loss: 0.094\n",
      "Finish Training with Supervised Loss Only\n",
      "Start Joint Training\n",
      "step: 0/10000, d_loss: 2.1002, g_loss_u: 0.6653, g_loss_s: 0.1066, g_loss_v: 0.3623, e_loss_t0: 0.1227\n",
      "step: 1000/10000, d_loss: 1.7433, g_loss_u: 1.4166, g_loss_s: 0.0713, g_loss_v: 0.0423, e_loss_t0: 0.0724\n",
      "step: 2000/10000, d_loss: 1.9849, g_loss_u: 1.7087, g_loss_s: 0.0648, g_loss_v: 0.0556, e_loss_t0: 0.0677\n",
      "step: 3000/10000, d_loss: 1.765, g_loss_u: 1.6002, g_loss_s: 0.0589, g_loss_v: 0.0346, e_loss_t0: 0.0603\n",
      "step: 4000/10000, d_loss: 1.6114, g_loss_u: 1.2125, g_loss_s: 0.0538, g_loss_v: 0.0348, e_loss_t0: 0.0639\n",
      "step: 5000/10000, d_loss: 1.4726, g_loss_u: 1.2047, g_loss_s: 0.0531, g_loss_v: 0.0303, e_loss_t0: 0.0613\n",
      "step: 6000/10000, d_loss: 1.8414, g_loss_u: 1.0976, g_loss_s: 0.0499, g_loss_v: 0.0336, e_loss_t0: 0.0599\n"
     ]
    }
   ],
   "source": [
    "# Run TimeGAN\n",
    "generated_data = timegan(ori_data, parameters)   \n",
    "print('Finish Synthetic Data Generation')"
   ]
  },
  {
   "cell_type": "markdown",
   "metadata": {},
   "source": [
    "## Evaluate the generated data\n",
    "\n",
    "### 1. Discriminative score\n",
    "\n",
    "To evaluate the classification accuracy between original and synthetic data using post-hoc RNN network. The output is |classification accuracy - 0.5|.\n",
    "\n",
    "- metric_iteration: the number of iterations for metric computation."
   ]
  },
  {
   "cell_type": "code",
   "execution_count": null,
   "metadata": {},
   "outputs": [],
   "source": [
    "metric_iteration = 5\n",
    "\n",
    "discriminative_score = list()\n",
    "for _ in range(metric_iteration):\n",
    "    temp_disc = discriminative_score_metrics(ori_data, generated_data)\n",
    "    discriminative_score.append(temp_disc)\n",
    "\n",
    "print('Discriminative score: ' + str(np.round(np.mean(discriminative_score), 4)))"
   ]
  },
  {
   "cell_type": "markdown",
   "metadata": {},
   "source": [
    "## Evaluate the generated data\n",
    "\n",
    "### 2. Predictive score\n",
    "\n",
    "To evaluate the prediction performance on train on synthetic, test on real setting. More specifically, we use Post-hoc RNN architecture to predict one-step ahead and report the performance in terms of MAE."
   ]
  },
  {
   "cell_type": "code",
   "execution_count": null,
   "metadata": {},
   "outputs": [],
   "source": [
    "predictive_score = list()\n",
    "for tt in range(metric_iteration):\n",
    "    temp_pred = predictive_score_metrics(ori_data, generated_data)\n",
    "    predictive_score.append(temp_pred)   \n",
    "    \n",
    "print('Predictive score: ' + str(np.round(np.mean(predictive_score), 4)))"
   ]
  },
  {
   "cell_type": "markdown",
   "metadata": {},
   "source": [
    "## Evaluate the generated data\n",
    "\n",
    "### 3. Visualization\n",
    "\n",
    "We visualize the original and synthetic data distributions using PCA and tSNE analysis."
   ]
  },
  {
   "cell_type": "code",
   "execution_count": null,
   "metadata": {},
   "outputs": [],
   "source": [
    "visualization(ori_data, generated_data, 'pca')\n",
    "visualization(ori_data, generated_data, 'tsne')"
   ]
  }
 ],
 "metadata": {
  "kernelspec": {
   "display_name": "Python 3",
   "language": "python",
   "name": "python3"
  },
  "language_info": {
   "codemirror_mode": {
    "name": "ipython",
    "version": 3
   },
   "file_extension": ".py",
   "mimetype": "text/x-python",
   "name": "python",
   "nbconvert_exporter": "python",
   "pygments_lexer": "ipython3",
   "version": "3.8.8"
  }
 },
 "nbformat": 4,
 "nbformat_minor": 2
}
